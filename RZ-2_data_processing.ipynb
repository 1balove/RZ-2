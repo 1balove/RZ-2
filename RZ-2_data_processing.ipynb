{
 "cells": [
  {
   "cell_type": "code",
   "execution_count": 1,
   "metadata": {},
   "outputs": [],
   "source": [
    "import polars as pl\n",
    "import pandas as pd"
   ]
  },
  {
   "cell_type": "markdown",
   "metadata": {},
   "source": [
    "Начнем с обработки данных и соберем их в единую таблицу"
   ]
  },
  {
   "cell_type": "markdown",
   "metadata": {},
   "source": [
    "С headline cpi все нормально, просто закастуем нужны типы данных и разделим год и квартал"
   ]
  },
  {
   "cell_type": "code",
   "execution_count": 2,
   "metadata": {},
   "outputs": [
    {
     "data": {
      "text/html": [
       "<div><style>\n",
       ".dataframe > thead > tr,\n",
       ".dataframe > tbody > tr {\n",
       "  text-align: right;\n",
       "  white-space: pre-wrap;\n",
       "}\n",
       "</style>\n",
       "<small>shape: (143, 3)</small><table border=\"1\" class=\"dataframe\"><thead><tr><th>headline_cpi</th><th>year</th><th>quarter</th></tr><tr><td>f64</td><td>i32</td><td>i8</td></tr></thead><tbody><tr><td>5.0</td><td>1989</td><td>1</td></tr><tr><td>5.3</td><td>1989</td><td>2</td></tr><tr><td>5.1</td><td>1989</td><td>3</td></tr><tr><td>5.5</td><td>1989</td><td>4</td></tr><tr><td>5.8</td><td>1990</td><td>1</td></tr><tr><td>&hellip;</td><td>&hellip;</td><td>&hellip;</td></tr><tr><td>6.7</td><td>2023</td><td>3</td></tr><tr><td>4.2</td><td>2023</td><td>4</td></tr><tr><td>3.5</td><td>2024</td><td>1</td></tr><tr><td>2.1</td><td>2024</td><td>2</td></tr><tr><td>2.0</td><td>2024</td><td>3</td></tr></tbody></table></div>"
      ],
      "text/plain": [
       "shape: (143, 3)\n",
       "┌──────────────┬──────┬─────────┐\n",
       "│ headline_cpi ┆ year ┆ quarter │\n",
       "│ ---          ┆ ---  ┆ ---     │\n",
       "│ f64          ┆ i32  ┆ i8      │\n",
       "╞══════════════╪══════╪═════════╡\n",
       "│ 5.0          ┆ 1989 ┆ 1       │\n",
       "│ 5.3          ┆ 1989 ┆ 2       │\n",
       "│ 5.1          ┆ 1989 ┆ 3       │\n",
       "│ 5.5          ┆ 1989 ┆ 4       │\n",
       "│ 5.8          ┆ 1990 ┆ 1       │\n",
       "│ …            ┆ …    ┆ …       │\n",
       "│ 6.7          ┆ 2023 ┆ 3       │\n",
       "│ 4.2          ┆ 2023 ┆ 4       │\n",
       "│ 3.5          ┆ 2024 ┆ 1       │\n",
       "│ 2.1          ┆ 2024 ┆ 2       │\n",
       "│ 2.0          ┆ 2024 ┆ 3       │\n",
       "└──────────────┴──────┴─────────┘"
      ]
     },
     "execution_count": 2,
     "metadata": {},
     "output_type": "execute_result"
    }
   ],
   "source": [
    "headline_cpi = pl.read_csv('data/headline_cpi.csv')\n",
    "headline_cpi = headline_cpi.filter(pl.col('Title').str.contains('Q1|Q2|Q3|Q4'))\n",
    "headline_cpi = headline_cpi.select(pl.col('Title').alias('quarter_str'), pl.col('CPI ANNUAL RATE 00: ALL ITEMS 2015=100').cast(pl.Float64).alias('headline_cpi'))\n",
    "headline_cpi = headline_cpi.with_columns([\n",
    "    pl.col(\"quarter_str\").str.extract(r\"(\\d{4})\", 1).cast(pl.Int32).alias(\"year\"),\n",
    "    pl.col(\"quarter_str\").str.extract(r\"Q(\\d)\", 1).cast(pl.Int8).alias(\"quarter\")\n",
    "])\n",
    "headline_cpi = headline_cpi.drop('quarter_str')\n",
    "headline_cpi"
   ]
  },
  {
   "cell_type": "markdown",
   "metadata": {},
   "source": [
    "C core_cpi все сложнее, так как данные в формате m-on-m, то есть изменение за месяц. Во-первых, надо разбить столбец даты на год и квартал (тут сложность в том, что в таблице указывается инфляция за предыдущий период, то есть если дата - 2000-10-01, то инфляция за сентябрь). Во-вторых, надо перемножить инфляцию в каждом квартале, чтобы получить общую за квартал, а потом аннуализировать ее."
   ]
  },
  {
   "cell_type": "code",
   "execution_count": 3,
   "metadata": {},
   "outputs": [
    {
     "data": {
      "text/html": [
       "<div><style>\n",
       ".dataframe > thead > tr,\n",
       ".dataframe > tbody > tr {\n",
       "  text-align: right;\n",
       "  white-space: pre-wrap;\n",
       "}\n",
       "</style>\n",
       "<small>shape: (144, 3)</small><table border=\"1\" class=\"dataframe\"><thead><tr><th>year</th><th>quarter</th><th>core_cpi</th></tr><tr><td>i32</td><td>i8</td><td>f64</td></tr></thead><tbody><tr><td>1988</td><td>1</td><td>8.6</td></tr><tr><td>1988</td><td>2</td><td>4.5</td></tr><tr><td>1988</td><td>3</td><td>6.0</td></tr><tr><td>1988</td><td>4</td><td>2.2</td></tr><tr><td>1989</td><td>1</td><td>8.9</td></tr><tr><td>&hellip;</td><td>&hellip;</td><td>&hellip;</td></tr><tr><td>2022</td><td>4</td><td>0.0</td></tr><tr><td>2023</td><td>1</td><td>14.3</td></tr><tr><td>2023</td><td>2</td><td>5.2</td></tr><tr><td>2023</td><td>3</td><td>3.8</td></tr><tr><td>2023</td><td>4</td><td>-0.9</td></tr></tbody></table></div>"
      ],
      "text/plain": [
       "shape: (144, 3)\n",
       "┌──────┬─────────┬──────────┐\n",
       "│ year ┆ quarter ┆ core_cpi │\n",
       "│ ---  ┆ ---     ┆ ---      │\n",
       "│ i32  ┆ i8      ┆ f64      │\n",
       "╞══════╪═════════╪══════════╡\n",
       "│ 1988 ┆ 1       ┆ 8.6      │\n",
       "│ 1988 ┆ 2       ┆ 4.5      │\n",
       "│ 1988 ┆ 3       ┆ 6.0      │\n",
       "│ 1988 ┆ 4       ┆ 2.2      │\n",
       "│ 1989 ┆ 1       ┆ 8.9      │\n",
       "│ …    ┆ …       ┆ …        │\n",
       "│ 2022 ┆ 4       ┆ 0.0      │\n",
       "│ 2023 ┆ 1       ┆ 14.3     │\n",
       "│ 2023 ┆ 2       ┆ 5.2      │\n",
       "│ 2023 ┆ 3       ┆ 3.8      │\n",
       "│ 2023 ┆ 4       ┆ -0.9     │\n",
       "└──────┴─────────┴──────────┘"
      ]
     },
     "execution_count": 3,
     "metadata": {},
     "output_type": "execute_result"
    }
   ],
   "source": [
    "core_cpi = pl.read_csv('data/core_cpi_m-on-m.csv')\n",
    "core_cpi = core_cpi.with_columns(pl.col('DATE').str.strptime(pl.Date, format=\"%Y-%m-%d\")).rename({'GBRCPHPLA01GPM' : 'core_cpi'})\n",
    "core_cpi = core_cpi.with_columns([\n",
    "    pl.col(\"DATE\").dt.year().alias(\"year\"),\n",
    "    ((pl.col(\"DATE\").dt.month() - 2) // 3 + 1).alias(\"quarter\")\n",
    "])\n",
    "core_cpi = core_cpi.with_columns(pl.when(pl.col('quarter') == 0)\n",
    "                      .then(pl.lit(4))\n",
    "                      .otherwise(pl.col('quarter'))\n",
    "                      .alias('quarter'))\n",
    "core_cpi = core_cpi.with_columns(pl.when(pl.col('DATE').dt.month() == 1).\n",
    "                      then(pl.col('year') - 1).\n",
    "                      otherwise(pl.col('year')).\n",
    "                      alias('year'))\n",
    "core_cpi = core_cpi.drop('DATE').group_by(['year', 'quarter']).agg(((pl.col('core_cpi') / 100 + 1).product() - 1) * 100).sort(['year', 'quarter'])\n",
    "core_cpi = core_cpi.with_columns((((pl.col('core_cpi') / 100 + 1).pow(4) - 1) * 100).round(1))\n",
    "core_cpi"
   ]
  },
  {
   "cell_type": "markdown",
   "metadata": {},
   "source": [
    "Склеим core и headline cpi"
   ]
  },
  {
   "cell_type": "code",
   "execution_count": 4,
   "metadata": {},
   "outputs": [],
   "source": [
    "overall_data = headline_cpi.join(core_cpi, on=['year', 'quarter'], how='left')"
   ]
  },
  {
   "cell_type": "markdown",
   "metadata": {},
   "source": [
    "Информацию об инфляционных ожиданиях мы взяли из опросов на сайте Bank of England (ЦБ местного розлива). В таблице есть разные данные, но мы взяли медианное значение ответов на вопрос \"How much would you expect prices in the shops generally to change over the next 12 months?\"."
   ]
  },
  {
   "cell_type": "code",
   "execution_count": 5,
   "metadata": {},
   "outputs": [],
   "source": [
    "# !pip install fastexcel"
   ]
  },
  {
   "cell_type": "code",
   "execution_count": 6,
   "metadata": {},
   "outputs": [
    {
     "data": {
      "text/html": [
       "<div><style>\n",
       ".dataframe > thead > tr,\n",
       ".dataframe > tbody > tr {\n",
       "  text-align: right;\n",
       "  white-space: pre-wrap;\n",
       "}\n",
       "</style>\n",
       "<small>shape: (100, 3)</small><table border=\"1\" class=\"dataframe\"><thead><tr><th>inf_expectation</th><th>year</th><th>quarter</th></tr><tr><td>f64</td><td>i32</td><td>i8</td></tr></thead><tbody><tr><td>1.5</td><td>1999</td><td>4</td></tr><tr><td>2.3</td><td>2000</td><td>1</td></tr><tr><td>2.4</td><td>2000</td><td>2</td></tr><tr><td>2.2</td><td>2000</td><td>3</td></tr><tr><td>2.3</td><td>2000</td><td>4</td></tr><tr><td>&hellip;</td><td>&hellip;</td><td>&hellip;</td></tr><tr><td>3.6</td><td>2023</td><td>3</td></tr><tr><td>3.3</td><td>2023</td><td>4</td></tr><tr><td>3.0</td><td>2024</td><td>1</td></tr><tr><td>2.8</td><td>2024</td><td>2</td></tr><tr><td>2.7</td><td>2024</td><td>3</td></tr></tbody></table></div>"
      ],
      "text/plain": [
       "shape: (100, 3)\n",
       "┌─────────────────┬──────┬─────────┐\n",
       "│ inf_expectation ┆ year ┆ quarter │\n",
       "│ ---             ┆ ---  ┆ ---     │\n",
       "│ f64             ┆ i32  ┆ i8      │\n",
       "╞═════════════════╪══════╪═════════╡\n",
       "│ 1.5             ┆ 1999 ┆ 4       │\n",
       "│ 2.3             ┆ 2000 ┆ 1       │\n",
       "│ 2.4             ┆ 2000 ┆ 2       │\n",
       "│ 2.2             ┆ 2000 ┆ 3       │\n",
       "│ 2.3             ┆ 2000 ┆ 4       │\n",
       "│ …               ┆ …    ┆ …       │\n",
       "│ 3.6             ┆ 2023 ┆ 3       │\n",
       "│ 3.3             ┆ 2023 ┆ 4       │\n",
       "│ 3.0             ┆ 2024 ┆ 1       │\n",
       "│ 2.8             ┆ 2024 ┆ 2       │\n",
       "│ 2.7             ┆ 2024 ┆ 3       │\n",
       "└─────────────────┴──────┴─────────┘"
      ]
     },
     "execution_count": 6,
     "metadata": {},
     "output_type": "execute_result"
    }
   ],
   "source": [
    "inf_expectations = pl.read_excel('data/inflation_expectations.xlsx')\n",
    "df = pl.concat([inf_expectations.filter(pl.col('PUBLIC ATTITUDES TO INFLATION') == 'SUMMARY RESULTS '), inf_expectations.filter(pl.col('PUBLIC ATTITUDES TO INFLATION') == 'Median')[1]]).transpose()\n",
    "df.columns = df.row(0)\n",
    "inf_expectations = df[1::]\n",
    "inf_expectations = inf_expectations.with_columns(pl.col('SUMMARY RESULTS ').str.strptime(pl.Date, format=\"%Y-%m-%d %H:%M:%S\"), pl.col('Median').cast(pl.Float64).round(1)).with_columns(pl.col('SUMMARY RESULTS ').dt.year().alias('year'), (pl.col('SUMMARY RESULTS ').dt.month() // 3 + 1).alias('quarter'))\n",
    "inf_expectations = inf_expectations.drop('SUMMARY RESULTS ').rename({'Median' : 'inf_expectation'})\n",
    "inf_expectations"
   ]
  },
  {
   "cell_type": "code",
   "execution_count": 7,
   "metadata": {},
   "outputs": [],
   "source": [
    "overall_data = overall_data.join(inf_expectations, on=['year', 'quarter'], how='left')"
   ]
  },
  {
   "cell_type": "markdown",
   "metadata": {},
   "source": [
    "GDP так же как и другие данные аннуализируем сложным процентом"
   ]
  },
  {
   "cell_type": "code",
   "execution_count": 8,
   "metadata": {},
   "outputs": [
    {
     "data": {
      "text/html": [
       "<div><style>\n",
       ".dataframe > thead > tr,\n",
       ".dataframe > tbody > tr {\n",
       "  text-align: right;\n",
       "  white-space: pre-wrap;\n",
       "}\n",
       "</style>\n",
       "<small>shape: (278, 3)</small><table border=\"1\" class=\"dataframe\"><thead><tr><th>gdp</th><th>year</th><th>quarter</th></tr><tr><td>f64</td><td>i32</td><td>i8</td></tr></thead><tbody><tr><td>0.0</td><td>1955</td><td>2</td></tr><tr><td>8.2</td><td>1955</td><td>3</td></tr><tr><td>-2.4</td><td>1955</td><td>4</td></tr><tr><td>4.5</td><td>1956</td><td>1</td></tr><tr><td>-0.4</td><td>1956</td><td>2</td></tr><tr><td>&hellip;</td><td>&hellip;</td><td>&hellip;</td></tr><tr><td>-0.4</td><td>2023</td><td>3</td></tr><tr><td>-1.2</td><td>2023</td><td>4</td></tr><tr><td>2.8</td><td>2024</td><td>1</td></tr><tr><td>2.0</td><td>2024</td><td>2</td></tr><tr><td>0.4</td><td>2024</td><td>3</td></tr></tbody></table></div>"
      ],
      "text/plain": [
       "shape: (278, 3)\n",
       "┌──────┬──────┬─────────┐\n",
       "│ gdp  ┆ year ┆ quarter │\n",
       "│ ---  ┆ ---  ┆ ---     │\n",
       "│ f64  ┆ i32  ┆ i8      │\n",
       "╞══════╪══════╪═════════╡\n",
       "│ 0.0  ┆ 1955 ┆ 2       │\n",
       "│ 8.2  ┆ 1955 ┆ 3       │\n",
       "│ -2.4 ┆ 1955 ┆ 4       │\n",
       "│ 4.5  ┆ 1956 ┆ 1       │\n",
       "│ -0.4 ┆ 1956 ┆ 2       │\n",
       "│ …    ┆ …    ┆ …       │\n",
       "│ -0.4 ┆ 2023 ┆ 3       │\n",
       "│ -1.2 ┆ 2023 ┆ 4       │\n",
       "│ 2.8  ┆ 2024 ┆ 1       │\n",
       "│ 2.0  ┆ 2024 ┆ 2       │\n",
       "│ 0.4  ┆ 2024 ┆ 3       │\n",
       "└──────┴──────┴─────────┘"
      ]
     },
     "execution_count": 8,
     "metadata": {},
     "output_type": "execute_result"
    }
   ],
   "source": [
    "gdp = pl.read_csv('data/gdp_q-on-q.csv')\n",
    "gdp = gdp.filter(pl.col(\"Title\").str.contains('Q1|Q2|Q3|Q4'))\n",
    "gdp = gdp.with_columns([\n",
    "    pl.col(\"Title\").str.extract(r\"(\\d{4})\", 1).cast(pl.Int32).alias(\"year\"),\n",
    "    pl.col(\"Title\").str.extract(r\"Q(\\d)\", 1).cast(pl.Int8).alias(\"quarter\")\n",
    "])\n",
    "gdp = gdp.rename({'Gross Domestic Product: Quarter on Quarter growth: CVM SA %' : 'gdp'}).drop(\"Title\").with_columns(pl.col(\"gdp\").cast(pl.Float64))\n",
    "gdp = gdp.with_columns((((pl.col('gdp') / 100 + 1).pow(4) - 1) * 100).round(1))\n",
    "gdp"
   ]
  },
  {
   "cell_type": "code",
   "execution_count": 9,
   "metadata": {},
   "outputs": [],
   "source": [
    "overall_data = overall_data.join(gdp, on=['year', 'quarter'], how='right')"
   ]
  },
  {
   "cell_type": "markdown",
   "metadata": {},
   "source": [
    "Посчитаем output gap с помощью hk-фильтра"
   ]
  },
  {
   "cell_type": "code",
   "execution_count": 10,
   "metadata": {},
   "outputs": [],
   "source": [
    "from statsmodels.tsa.filters.hp_filter import hpfilter\n",
    "\n",
    "gdp_cycle, gdp_trend = hpfilter(gdp.to_pandas()['gdp'], lamb=1600)\n",
    "output_gap = (gdp.to_pandas()['gdp'] - gdp_trend) / gdp_trend * 100"
   ]
  },
  {
   "cell_type": "code",
   "execution_count": 11,
   "metadata": {},
   "outputs": [],
   "source": [
    "overall_data = overall_data.with_columns([pl.Series('potential_gdp', gdp_trend), pl.Series('output_gap', output_gap)])"
   ]
  },
  {
   "cell_type": "markdown",
   "metadata": {},
   "source": [
    "Обрабатываем безработицу по привычной схеме"
   ]
  },
  {
   "cell_type": "code",
   "execution_count": 12,
   "metadata": {},
   "outputs": [
    {
     "data": {
      "text/html": [
       "<div><style>\n",
       ".dataframe > thead > tr,\n",
       ".dataframe > tbody > tr {\n",
       "  text-align: right;\n",
       "  white-space: pre-wrap;\n",
       "}\n",
       "</style>\n",
       "<small>shape: (215, 3)</small><table border=\"1\" class=\"dataframe\"><thead><tr><th>unemployment</th><th>year</th><th>quarter</th></tr><tr><td>f64</td><td>i32</td><td>i8</td></tr></thead><tbody><tr><td>3.8</td><td>1971</td><td>1</td></tr><tr><td>4.1</td><td>1971</td><td>2</td></tr><tr><td>4.2</td><td>1971</td><td>3</td></tr><tr><td>4.4</td><td>1971</td><td>4</td></tr><tr><td>4.5</td><td>1972</td><td>1</td></tr><tr><td>&hellip;</td><td>&hellip;</td><td>&hellip;</td></tr><tr><td>4.1</td><td>2023</td><td>3</td></tr><tr><td>3.8</td><td>2023</td><td>4</td></tr><tr><td>4.3</td><td>2024</td><td>1</td></tr><tr><td>4.2</td><td>2024</td><td>2</td></tr><tr><td>4.3</td><td>2024</td><td>3</td></tr></tbody></table></div>"
      ],
      "text/plain": [
       "shape: (215, 3)\n",
       "┌──────────────┬──────┬─────────┐\n",
       "│ unemployment ┆ year ┆ quarter │\n",
       "│ ---          ┆ ---  ┆ ---     │\n",
       "│ f64          ┆ i32  ┆ i8      │\n",
       "╞══════════════╪══════╪═════════╡\n",
       "│ 3.8          ┆ 1971 ┆ 1       │\n",
       "│ 4.1          ┆ 1971 ┆ 2       │\n",
       "│ 4.2          ┆ 1971 ┆ 3       │\n",
       "│ 4.4          ┆ 1971 ┆ 4       │\n",
       "│ 4.5          ┆ 1972 ┆ 1       │\n",
       "│ …            ┆ …    ┆ …       │\n",
       "│ 4.1          ┆ 2023 ┆ 3       │\n",
       "│ 3.8          ┆ 2023 ┆ 4       │\n",
       "│ 4.3          ┆ 2024 ┆ 1       │\n",
       "│ 4.2          ┆ 2024 ┆ 2       │\n",
       "│ 4.3          ┆ 2024 ┆ 3       │\n",
       "└──────────────┴──────┴─────────┘"
      ]
     },
     "execution_count": 12,
     "metadata": {},
     "output_type": "execute_result"
    }
   ],
   "source": [
    "unemployment = pl.read_csv('data/unemployment.csv')\n",
    "unemployment = unemployment.filter(pl.col(\"Title\").str.contains('Q1|Q2|Q3|Q4'))\n",
    "unemployment = unemployment.with_columns([\n",
    "    pl.col(\"Title\").str.extract(r\"(\\d{4})\", 1).cast(pl.Int32).alias(\"year\"),\n",
    "    pl.col(\"Title\").str.extract(r\"Q(\\d)\", 1).cast(pl.Int8).alias(\"quarter\")\n",
    "])\n",
    "unemployment = unemployment.rename({'Unemployment rate (aged 16 and over, seasonally adjusted): %' : 'unemployment'}).drop(\"Title\").with_columns(pl.col('unemployment').cast(pl.Float64))\n",
    "unemployment"
   ]
  },
  {
   "cell_type": "code",
   "execution_count": 13,
   "metadata": {},
   "outputs": [
    {
     "data": {
      "text/html": [
       "<div><style>\n",
       ".dataframe > thead > tr,\n",
       ".dataframe > tbody > tr {\n",
       "  text-align: right;\n",
       "  white-space: pre-wrap;\n",
       "}\n",
       "</style>\n",
       "<small>shape: (97, 9)</small><table border=\"1\" class=\"dataframe\"><thead><tr><th>headline_cpi</th><th>core_cpi</th><th>inf_expectation</th><th>gdp</th><th>year</th><th>quarter</th><th>potential_gdp</th><th>output_gap</th><th>unemployment</th></tr><tr><td>f64</td><td>f64</td><td>f64</td><td>f64</td><td>i32</td><td>i8</td><td>f64</td><td>f64</td><td>f64</td></tr></thead><tbody><tr><td>1.1</td><td>-4.1</td><td>1.5</td><td>5.7</td><td>1999</td><td>4</td><td>3.38573</td><td>68.353654</td><td>5.8</td></tr><tr><td>0.8</td><td>3.7</td><td>2.3</td><td>4.9</td><td>2000</td><td>1</td><td>3.33038</td><td>47.130344</td><td>5.8</td></tr><tr><td>0.6</td><td>-3.1</td><td>2.4</td><td>2.8</td><td>2000</td><td>2</td><td>3.268623</td><td>-14.337013</td><td>5.5</td></tr><tr><td>0.8</td><td>4.8</td><td>2.2</td><td>2.4</td><td>2000</td><td>3</td><td>3.203238</td><td>-25.075807</td><td>5.3</td></tr><tr><td>1.0</td><td>-3.1</td><td>2.3</td><td>2.4</td><td>2000</td><td>4</td><td>3.136712</td><td>-23.486755</td><td>5.2</td></tr><tr><td>&hellip;</td><td>&hellip;</td><td>&hellip;</td><td>&hellip;</td><td>&hellip;</td><td>&hellip;</td><td>&hellip;</td><td>&hellip;</td><td>&hellip;</td></tr><tr><td>10.7</td><td>0.0</td><td>4.8</td><td>1.2</td><td>2022</td><td>4</td><td>3.335138</td><td>-64.019477</td><td>3.9</td></tr><tr><td>10.2</td><td>14.3</td><td>3.9</td><td>0.4</td><td>2023</td><td>1</td><td>3.027886</td><td>-86.789462</td><td>4.0</td></tr><tr><td>8.4</td><td>5.2</td><td>3.5</td><td>0.0</td><td>2023</td><td>2</td><td>2.711156</td><td>-100.0</td><td>4.2</td></tr><tr><td>6.7</td><td>3.8</td><td>3.6</td><td>-0.4</td><td>2023</td><td>3</td><td>2.389843</td><td>-116.737499</td><td>4.1</td></tr><tr><td>4.2</td><td>-0.9</td><td>3.3</td><td>-1.2</td><td>2023</td><td>4</td><td>2.067148</td><td>-158.050983</td><td>3.8</td></tr></tbody></table></div>"
      ],
      "text/plain": [
       "shape: (97, 9)\n",
       "┌─────────────┬──────────┬─────────────┬──────┬───┬─────────┬────────────┬────────────┬────────────┐\n",
       "│ headline_cp ┆ core_cpi ┆ inf_expecta ┆ gdp  ┆ … ┆ quarter ┆ potential_ ┆ output_gap ┆ unemployme │\n",
       "│ i           ┆ ---      ┆ tion        ┆ ---  ┆   ┆ ---     ┆ gdp        ┆ ---        ┆ nt         │\n",
       "│ ---         ┆ f64      ┆ ---         ┆ f64  ┆   ┆ i8      ┆ ---        ┆ f64        ┆ ---        │\n",
       "│ f64         ┆          ┆ f64         ┆      ┆   ┆         ┆ f64        ┆            ┆ f64        │\n",
       "╞═════════════╪══════════╪═════════════╪══════╪═══╪═════════╪════════════╪════════════╪════════════╡\n",
       "│ 1.1         ┆ -4.1     ┆ 1.5         ┆ 5.7  ┆ … ┆ 4       ┆ 3.38573    ┆ 68.353654  ┆ 5.8        │\n",
       "│ 0.8         ┆ 3.7      ┆ 2.3         ┆ 4.9  ┆ … ┆ 1       ┆ 3.33038    ┆ 47.130344  ┆ 5.8        │\n",
       "│ 0.6         ┆ -3.1     ┆ 2.4         ┆ 2.8  ┆ … ┆ 2       ┆ 3.268623   ┆ -14.337013 ┆ 5.5        │\n",
       "│ 0.8         ┆ 4.8      ┆ 2.2         ┆ 2.4  ┆ … ┆ 3       ┆ 3.203238   ┆ -25.075807 ┆ 5.3        │\n",
       "│ 1.0         ┆ -3.1     ┆ 2.3         ┆ 2.4  ┆ … ┆ 4       ┆ 3.136712   ┆ -23.486755 ┆ 5.2        │\n",
       "│ …           ┆ …        ┆ …           ┆ …    ┆ … ┆ …       ┆ …          ┆ …          ┆ …          │\n",
       "│ 10.7        ┆ 0.0      ┆ 4.8         ┆ 1.2  ┆ … ┆ 4       ┆ 3.335138   ┆ -64.019477 ┆ 3.9        │\n",
       "│ 10.2        ┆ 14.3     ┆ 3.9         ┆ 0.4  ┆ … ┆ 1       ┆ 3.027886   ┆ -86.789462 ┆ 4.0        │\n",
       "│ 8.4         ┆ 5.2      ┆ 3.5         ┆ 0.0  ┆ … ┆ 2       ┆ 2.711156   ┆ -100.0     ┆ 4.2        │\n",
       "│ 6.7         ┆ 3.8      ┆ 3.6         ┆ -0.4 ┆ … ┆ 3       ┆ 2.389843   ┆ -116.73749 ┆ 4.1        │\n",
       "│             ┆          ┆             ┆      ┆   ┆         ┆            ┆ 9          ┆            │\n",
       "│ 4.2         ┆ -0.9     ┆ 3.3         ┆ -1.2 ┆ … ┆ 4       ┆ 2.067148   ┆ -158.05098 ┆ 3.8        │\n",
       "│             ┆          ┆             ┆      ┆   ┆         ┆            ┆ 3          ┆            │\n",
       "└─────────────┴──────────┴─────────────┴──────┴───┴─────────┴────────────┴────────────┴────────────┘"
      ]
     },
     "execution_count": 13,
     "metadata": {},
     "output_type": "execute_result"
    }
   ],
   "source": [
    "overall_data = overall_data.join(unemployment, on=['year', 'quarter'], how='left')\n",
    "overall_data = overall_data.drop_nulls()\n",
    "overall_data"
   ]
  },
  {
   "cell_type": "markdown",
   "metadata": {},
   "source": [
    "Так у нас выглядит итоговая табличка. Поскольку данные об ожидаемой инфляции наичнаются с 2000-го года, то отсальные ряды придется подрезать. Но на всякий случай сохраним исходные таблицы."
   ]
  },
  {
   "cell_type": "code",
   "execution_count": 14,
   "metadata": {},
   "outputs": [],
   "source": [
    "overall_data.write_csv('clear_data/overall_data.csv')\n",
    "headline_cpi.write_csv('clear_data/headline_cpi_clear.csv')\n",
    "core_cpi.write_csv('clear_data/core_cpi_clear.csv')\n",
    "inf_expectations.write_csv('clear_data/inflation_expectations_clear.csv')\n",
    "gdp.write_csv('clear_data/gdp_clear.csv')\n",
    "overall_data['potential_gdp', 'output_gap'].write_csv('clear_data/output_gap_clear.csv')\n",
    "unemployment.write_csv('clear_data/unemployment_clear.csv')"
   ]
  }
 ],
 "metadata": {
  "kernelspec": {
   "display_name": "Python 3",
   "language": "python",
   "name": "python3"
  },
  "language_info": {
   "codemirror_mode": {
    "name": "ipython",
    "version": 3
   },
   "file_extension": ".py",
   "mimetype": "text/x-python",
   "name": "python",
   "nbconvert_exporter": "python",
   "pygments_lexer": "ipython3",
   "version": "3.11.9"
  }
 },
 "nbformat": 4,
 "nbformat_minor": 2
}
